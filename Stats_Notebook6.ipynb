{
 "cells": [
  {
   "cell_type": "markdown",
   "id": "f1d5889c",
   "metadata": {},
   "source": [
    "##### What is the difference between a t-test and a z-test? Provide an example scenario where you would use each type of test."
   ]
  },
  {
   "cell_type": "markdown",
   "id": "175c8059",
   "metadata": {},
   "source": [
    "###### Difference Between T-Test and Z-Test\n",
    ">T-Test: Used when the sample size is small (usually n<30) or the population standard deviation is unknown.\n",
    "\n",
    ">Example: Testing if the average score of a class of 25 students is significantly different from the national average.\n",
    "\n",
    ">Z-Test: Used for large samples (usually \n",
    "n≥30) or when the population standard deviation is known.\n",
    "\n",
    ">Example: Checking if the mean height of 100 people is significantly different from the population mean."
   ]
  },
  {
   "cell_type": "code",
   "execution_count": 1,
   "id": "43b153a2",
   "metadata": {},
   "outputs": [
    {
     "name": "stdout",
     "output_type": "stream",
     "text": [
      "T-Test Results: 0.4323377011671177 0.683506977874608\n",
      "Z-Test Results: 4.0 6.334248366623996e-05\n"
     ]
    }
   ],
   "source": [
    "from scipy.stats import ttest_1samp, norm\n",
    "\n",
    "# T-Test example\n",
    "sample_data = [23, 25, 20, 30, 28, 22]  # Sample data for a class of 25 students\n",
    "population_mean = 24  # National average score\n",
    "t_statistic, p_value = ttest_1samp(sample_data, population_mean)\n",
    "print(\"T-Test Results:\", t_statistic, p_value)\n",
    "\n",
    "# Z-Test example\n",
    "sample_mean = 70\n",
    "population_mean = 68\n",
    "std_dev = 5\n",
    "n = 100\n",
    "z_score = (sample_mean - population_mean) / (std_dev / (n ** 0.5))\n",
    "p_value_z = 2 * (1 - norm.cdf(abs(z_score)))\n",
    "print(\"Z-Test Results:\", z_score, p_value_z)"
   ]
  },
  {
   "cell_type": "markdown",
   "id": "7bd403e0",
   "metadata": {},
   "source": [
    "##### Differentiate between one-tailed and two-tailed tests."
   ]
  },
  {
   "cell_type": "markdown",
   "id": "18ea3e50",
   "metadata": {},
   "source": [
    ">One-Tailed Test: Tests for a specific direction of the effect (e.g., greater than or less than).\n",
    "\n",
    ">Two-Tailed Test: Tests for any significant difference, regardless of direction."
   ]
  },
  {
   "cell_type": "code",
   "execution_count": 2,
   "id": "96d7b71f",
   "metadata": {},
   "outputs": [
    {
     "name": "stdout",
     "output_type": "stream",
     "text": [
      "Two-Tailed Test Results: 0.8770580193070292 0.4299733794885493\n",
      "One-Tailed Test Results: 0.8770580193070292 0.21498668974427465\n"
     ]
    }
   ],
   "source": [
    "from scipy.stats import ttest_1samp\n",
    "\n",
    "# Two-tailed example (testing if mean is different)\n",
    "sample_data = [22, 19, 24, 25, 20]\n",
    "population_mean = 21\n",
    "t_statistic, p_value = ttest_1samp(sample_data, population_mean)\n",
    "print(\"Two-Tailed Test Results:\", t_statistic, p_value)\n",
    "\n",
    "# For one-tailed, use p_value / 2 if the direction is known.\n",
    "if t_statistic > 0:\n",
    "    one_tailed_p_value = p_value / 2\n",
    "else:\n",
    "    one_tailed_p_value = 1 - (p_value / 2)\n",
    "print(\"One-Tailed Test Results:\", t_statistic, one_tailed_p_value)"
   ]
  },
  {
   "cell_type": "markdown",
   "id": "8e814237",
   "metadata": {},
   "source": [
    "##### Explain the concept of Type 1 and Type 2 errors in hypothesis testing. Provide an example scenario for each type of error."
   ]
  },
  {
   "cell_type": "markdown",
   "id": "2b2549e6",
   "metadata": {},
   "source": [
    ">Type 1 Error: Rejecting a true null hypothesis (false positive).\n",
    "\n",
    ">Example: Concluding a new drug works when it does not.\n",
    "\n",
    ">Type 2 Error: Failing to reject a false null hypothesis (false negative).\n",
    "\n",
    ">Example: Concluding a drug has no effect when it actually does."
   ]
  },
  {
   "cell_type": "markdown",
   "id": "06f9d3c9",
   "metadata": {},
   "source": [
    "##### Explain Bayes's theorem with an example."
   ]
  },
  {
   "cell_type": "markdown",
   "id": "20a4be03",
   "metadata": {},
   "source": [
    ">Bayes's theorem calculates the probability of an event based on prior knowledge of conditions related to the event.\n",
    "\n",
    ">Example: If a test for a disease has a 99% accuracy rate, Bayes’s theorem can help determine the likelihood someone has the disease based on their positive test result.\n",
    "\n",
    ">Formula: P(A∣B)= \n",
    "P(B∣A)⋅P(A)/p(B)"
   ]
  },
  {
   "cell_type": "markdown",
   "id": "4c925d24",
   "metadata": {},
   "source": [
    "##### What is a confidence interval, How to calculate the confidence interval, explain with an example."
   ]
  },
  {
   "attachments": {
    "image.png": {
     "image/png": "[encoded data removed]"
    }
   },
   "cell_type": "markdown",
   "id": "bf0a990d",
   "metadata": {},
   "source": [
    "A confidence interval estimates a range within which a population parameter lies, based on a sample.\n",
    "\n",
    ">Formula: ![image.png](attachment:image.png)\n",
    "\n",
    "CI\t=\tconfidence interval\n",
    "bar{x}\t=\tsample mean\n",
    "z\t=\tconfidence level value\n",
    "{s}\t=\tsample standard deviation\n",
    "{n}\t=\tsample size\n",
    "\n",
    "Example: For a sample mean of 50, \n",
    "σ=5, and \n",
    "n=30, a 95% CI is calculated."
   ]
  },
  {
   "cell_type": "code",
   "execution_count": 4,
   "id": "317a8ac3",
   "metadata": {},
   "outputs": [
    {
     "name": "stdout",
     "output_type": "stream",
     "text": [
      "95% Confidence Interval: (48.210805856282846, 51.789194143717154)\n"
     ]
    }
   ],
   "source": [
    "import scipy.stats as stats\n",
    "\n",
    "# Given values\n",
    "sample_mean = 50\n",
    "std_dev = 5\n",
    "n = 30\n",
    "confidence_level = 0.95\n",
    "\n",
    "# Calculate the confidence interval\n",
    "z_score = stats.norm.ppf(1 - (1 - confidence_level) / 2)\n",
    "margin_of_error = z_score * (std_dev / (n ** 0.5))\n",
    "ci_lower = sample_mean - margin_of_error\n",
    "ci_upper = sample_mean + margin_of_error\n",
    "print(\"95% Confidence Interval:\", (ci_lower, ci_upper))"
   ]
  },
  {
   "cell_type": "markdown",
   "id": "81da853f",
   "metadata": {},
   "source": [
    "##### Use Bayes' Theorem to calculate the probability of an event occurring given prior knowledge of the event's probability and new evidence. Provide a sample problem and solution."
   ]
  },
  {
   "cell_type": "code",
   "execution_count": 5,
   "id": "5d89213e",
   "metadata": {},
   "outputs": [
    {
     "name": "stdout",
     "output_type": "stream",
     "text": [
      "P(Disease | Positive Test): 0.16666666666666669\n"
     ]
    }
   ],
   "source": [
    "# Given\n",
    "p_disease = 0.01  # Probability of having the disease\n",
    "p_positive_given_disease = 0.99  # Probability of positive test if disease is present\n",
    "p_positive_given_no_disease = 0.05  # Probability of positive test if no disease\n",
    "\n",
    "# Total probability of positive test\n",
    "p_positive = (p_positive_given_disease * p_disease) + \\\n",
    "             (p_positive_given_no_disease * (1 - p_disease))\n",
    "\n",
    "# Bayes' theorem: P(Disease|Positive)\n",
    "p_disease_given_positive = (p_positive_given_disease * p_disease) / p_positive\n",
    "print(\"P(Disease | Positive Test):\", p_disease_given_positive)"
   ]
  },
  {
   "cell_type": "markdown",
   "id": "48b0e63b",
   "metadata": {},
   "source": [
    "##### Calculate the 95% confidence interval for a sample of data with a mean of 50 and a standard deviation of 5. Interpret the results."
   ]
  },
  {
   "cell_type": "code",
   "execution_count": 6,
   "id": "508f1dc0",
   "metadata": {},
   "outputs": [
    {
     "name": "stdout",
     "output_type": "stream",
     "text": [
      "95% Confidence Interval: (48.210805856282846, 51.789194143717154)\n"
     ]
    }
   ],
   "source": [
    "import scipy.stats as stats\n",
    "\n",
    "# Given values\n",
    "sample_mean = 50\n",
    "std_dev = 5\n",
    "n = 30\n",
    "confidence_level = 0.95\n",
    "\n",
    "# Calculate the confidence interval\n",
    "z_score = stats.norm.ppf(1 - (1 - confidence_level) / 2)\n",
    "margin_of_error = z_score * (std_dev / (n ** 0.5))\n",
    "ci_lower = sample_mean - margin_of_error\n",
    "ci_upper = sample_mean + margin_of_error\n",
    "print(\"95% Confidence Interval:\", (ci_lower, ci_upper))"
   ]
  },
  {
   "cell_type": "markdown",
   "id": "90c4d48a",
   "metadata": {},
   "source": [
    "##### What is the margin of error in a confidence interval? How does sample size affect the margin of error, Provide an example of a scenario where a larger sample size would result in a smaller margin of error."
   ]
  },
  {
   "cell_type": "markdown",
   "id": "c2694a50",
   "metadata": {},
   "source": [
    "The margin of error decreases as sample size increases, improving estimate precision.\n",
    "\n",
    ">Example: For a survey, doubling the sample size reduces the margin of error, providing a more precise estimate."
   ]
  },
  {
   "cell_type": "code",
   "execution_count": 8,
   "id": "33bd2d88",
   "metadata": {},
   "outputs": [
    {
     "name": "stdout",
     "output_type": "stream",
     "text": [
      "Margin of Error with n=25: 3.919927969080108\n",
      "Margin of Error with n=100: 1.959963984540054\n"
     ]
    }
   ],
   "source": [
    "# Smaller vs. larger sample size example\n",
    "confidence_level = 0.95\n",
    "std_dev = 10\n",
    "sample_mean = 100\n",
    "\n",
    "# Small sample (n=25)\n",
    "n_small = 25\n",
    "z_score = stats.norm.ppf(1 - (1 - confidence_level) / 2)\n",
    "margin_error_small = z_score * (std_dev / (n_small ** 0.5))\n",
    "print(\"Margin of Error with n=25:\", margin_error_small)\n",
    "\n",
    "# Large sample (n=100)\n",
    "n_large = 100\n",
    "margin_error_large = z_score * (std_dev / (n_large ** 0.5))\n",
    "print(\"Margin of Error with n=100:\", margin_error_large)"
   ]
  },
  {
   "cell_type": "markdown",
   "id": "6e07b7cb",
   "metadata": {},
   "source": [
    "##### Calculate the z-score for a data point with a value of 75, a population mean of 70, and a population standard deviation of 5. Interpret the results."
   ]
  },
  {
   "cell_type": "code",
   "execution_count": 9,
   "id": "6d7a4976",
   "metadata": {},
   "outputs": [
    {
     "name": "stdout",
     "output_type": "stream",
     "text": [
      "Z-Score: 1.0\n"
     ]
    }
   ],
   "source": [
    "x = 75\n",
    "population_mean = 70\n",
    "population_std_dev = 5\n",
    "\n",
    "z_score = (x - population_mean) / population_std_dev\n",
    "print(\"Z-Score:\", z_score)"
   ]
  },
  {
   "cell_type": "markdown",
   "id": "8e798d57",
   "metadata": {},
   "source": [
    "##### In a study of the effectiveness of a new weight loss drug, a sample of 50 participants lost an average of 6 pounds with a standard deviation of 2.5 pounds. Conduct a hypothesis test to determine if the drug is significantly effective at a 95% confidence level using a t-test."
   ]
  },
  {
   "cell_type": "code",
   "execution_count": 10,
   "id": "af8e0153",
   "metadata": {},
   "outputs": [
    {
     "name": "stdout",
     "output_type": "stream",
     "text": [
      "T-Statistic: 16.970562748477143\n",
      "Critical Value: 2.009575234489209\n"
     ]
    }
   ],
   "source": [
    "from scipy.stats import t\n",
    "\n",
    "sample_mean = 6\n",
    "population_mean = 0\n",
    "std_dev = 2.5\n",
    "n = 50\n",
    "confidence_level = 0.95\n",
    "\n",
    "# Calculate t-score\n",
    "t_statistic = (sample_mean - population_mean) / (std_dev / (n ** 0.5))\n",
    "t_critical = t.ppf(1 - (1 - confidence_level) / 2, df=n - 1)\n",
    "print(\"T-Statistic:\", t_statistic)\n",
    "print(\"Critical Value:\", t_critical)"
   ]
  },
  {
   "cell_type": "markdown",
   "id": "6f025a4c",
   "metadata": {},
   "source": [
    "##### In a survey of 500 people, 65% reported being satisfied with their current job. Calculate the 95% confidence interval for the true proportion of people who are satisfied with their job."
   ]
  },
  {
   "cell_type": "code",
   "execution_count": 11,
   "id": "f830cbf3",
   "metadata": {},
   "outputs": [
    {
     "name": "stdout",
     "output_type": "stream",
     "text": [
      "95% Confidence Interval for Proportion: (0.6081925393809212, 0.6918074606190788)\n"
     ]
    }
   ],
   "source": [
    "p = 0.65  # Sample proportion\n",
    "n = 500\n",
    "confidence_level = 0.95\n",
    "\n",
    "# Calculate the margin of error and confidence interval\n",
    "z_score = stats.norm.ppf(1 - (1 - confidence_level) / 2)\n",
    "margin_error = z_score * ((p * (1 - p)) / n) ** 0.5\n",
    "ci_lower = p - margin_error\n",
    "ci_upper = p + margin_error\n",
    "print(\"95% Confidence Interval for Proportion:\", (ci_lower, ci_upper))"
   ]
  },
  {
   "cell_type": "markdown",
   "id": "7a22e2b2",
   "metadata": {},
   "source": [
    "##### A researcher is testing the effectiveness of two different teaching methods on student performance. Sample A has a mean score of 85 with a standard deviation of 6, while sample B has a mean score of 82 with a standard deviation of 5. Conduct a hypothesis test to determine if the two teaching methods have a significant difference in student performance using a t-test with a significance level of 0.01."
   ]
  },
  {
   "cell_type": "code",
   "execution_count": 12,
   "id": "7cfd6f5f",
   "metadata": {},
   "outputs": [
    {
     "name": "stdout",
     "output_type": "stream",
     "text": [
      "T-Statistic: 2.10386061995483\n",
      "Critical Value: 2.6632869538098674\n"
     ]
    }
   ],
   "source": [
    "from scipy.stats import t\n",
    "\n",
    "mean_a = 85\n",
    "std_a = 6\n",
    "n_a = 30\n",
    "mean_b = 82\n",
    "std_b = 5\n",
    "n_b = 30\n",
    "confidence_level = 0.99\n",
    "\n",
    "# Pooled standard deviation\n",
    "pooled_std_dev = (((n_a - 1) * std_a ** 2 + (n_b - 1) * std_b ** 2) / (n_a + n_b - 2)) ** 0.5\n",
    "t_statistic = (mean_a - mean_b) / (pooled_std_dev * ((1 / n_a + 1 / n_b) ** 0.5))\n",
    "t_critical = t.ppf(1 - (1 - confidence_level) / 2, df=n_a + n_b - 2)\n",
    "print(\"T-Statistic:\", t_statistic)\n",
    "print(\"Critical Value:\", t_critical)"
   ]
  },
  {
   "cell_type": "markdown",
   "id": "1568a89c",
   "metadata": {},
   "source": [
    "##### A population has a mean of 60 and a standard deviation of 8. A sample of 50 observations has a mean of 65. Calculate the 90% confidence interval for the true population mean."
   ]
  },
  {
   "cell_type": "code",
   "execution_count": 13,
   "id": "58081645",
   "metadata": {},
   "outputs": [
    {
     "name": "stdout",
     "output_type": "stream",
     "text": [
      "90% Confidence Interval: (63.13906055411732, 66.86093944588268)\n"
     ]
    }
   ],
   "source": [
    "population_mean = 60\n",
    "sample_mean = 65\n",
    "std_dev = 8\n",
    "n = 50\n",
    "confidence_level = 0.90\n",
    "\n",
    "# Calculate confidence interval\n",
    "z_score = stats.norm.ppf(1 - (1 - confidence_level) / 2)\n",
    "margin_error = z_score * (std_dev / (n ** 0.5))\n",
    "ci_lower = sample_mean - margin_error\n",
    "ci_upper = sample_mean + margin_error\n",
    "print(\"90% Confidence Interval:\", (ci_lower, ci_upper))"
   ]
  },
  {
   "cell_type": "markdown",
   "id": "fe8d20c8",
   "metadata": {},
   "source": [
    "##### In a study of the effects of caffeine on reaction time, a sample of 30 participants had an average reaction time of 0.25 seconds with a standard deviation of 0.05 seconds. Conduct a hypothesis test to determine if the caffeine has a significant effect on reaction time at a 90% confidence level using a t-test."
   ]
  },
  {
   "cell_type": "code",
   "execution_count": 14,
   "id": "e6f6c490",
   "metadata": {},
   "outputs": [
    {
     "name": "stdout",
     "output_type": "stream",
     "text": [
      "T-Statistic: 27.386127875258307\n",
      "Critical Value: 1.6991270265334972\n"
     ]
    }
   ],
   "source": [
    "from scipy.stats import t\n",
    "\n",
    "sample_mean = 0.25\n",
    "population_mean = 0  # Assuming no effect is the null hypothesis\n",
    "std_dev = 0.05\n",
    "n = 30\n",
    "confidence_level = 0.90\n",
    "\n",
    "# Calculate t-score\n",
    "t_statistic = (sample_mean - population_mean) / (std_dev / (n ** 0.5))\n",
    "t_critical = t.ppf(1 - (1 - confidence_level) / 2, df=n - 1)\n",
    "print(\"T-Statistic:\", t_statistic)\n",
    "print(\"Critical Value:\", t_critical)"
   ]
  }
 ],
 "metadata": {
  "kernelspec": {
   "display_name": "Python 3 (ipykernel)",
   "language": "python",
   "name": "python3"
  },
  "language_info": {
   "codemirror_mode": {
    "name": "ipython",
    "version": 3
   },
   "file_extension": ".py",
   "mimetype": "text/x-python",
   "name": "python",
   "nbconvert_exporter": "python",
   "pygments_lexer": "ipython3",
   "version": "3.10.9"
  }
 },
 "nbformat": 4,
 "nbformat_minor": 5
}
