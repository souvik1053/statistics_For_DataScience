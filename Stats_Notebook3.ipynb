{
 "cells": [
  {
   "cell_type": "markdown",
   "id": "30d4223e",
   "metadata": {},
   "source": [
    "##### What is the Probability Density Function (PDF)"
   ]
  },
  {
   "cell_type": "markdown",
   "id": "bf2d443a",
   "metadata": {},
   "source": [
    ">The Probability Density Function (PDF) tells us how likely a continuous random variable is to take on a certain value. It doesn't give the exact probability for a specific value but shows how likely different values are overall. The total area under the curve of the PDF is always 1, and the area between two points gives the probability of the variable falling in that range."
   ]
  },
  {
   "cell_type": "markdown",
   "id": "b1fb5427",
   "metadata": {},
   "source": [
    "##### What are the types of Probability Distributions"
   ]
  },
  {
   "cell_type": "markdown",
   "id": "663976bf",
   "metadata": {},
   "source": [
    "###### There are two main types of probability distributions:\n",
    "\n",
    ">Discrete Probability Distributions: These distributions apply to discrete random variables, which take on a countable number of values. Examples include the Binomial and Poisson distributions.\n",
    "\n",
    ">Continuous Probability Distributions: These distributions apply to continuous random variables, which can take on any value in a range. Examples include the Normal, Exponential, and Uniform distributions."
   ]
  },
  {
   "cell_type": "markdown",
   "id": "5d265d80",
   "metadata": {},
   "source": [
    "#####  Python function to calculate the probability density function of a normal distribution with given mean and standard deviation at a given point."
   ]
  },
  {
   "cell_type": "code",
   "execution_count": 1,
   "id": "a31f5cf0",
   "metadata": {},
   "outputs": [
    {
     "name": "stdout",
     "output_type": "stream",
     "text": [
      "0.05399096651318806\n"
     ]
    }
   ],
   "source": [
    "import math\n",
    "\n",
    "def normal_pdf(x, mean, std_dev):\n",
    "    # Calculate the probability density of the normal distribution\n",
    "    exponent = math.exp(-((x - mean) ** 2) / (2 * std_dev ** 2))\n",
    "    pdf_value = (1 / (math.sqrt(2 * math.pi) * std_dev)) * exponent\n",
    "    return pdf_value\n",
    "\n",
    "# Example usage:\n",
    "x_value = 2\n",
    "mean = 0\n",
    "std_dev = 1\n",
    "print(normal_pdf(x_value, mean, std_dev))  # Output will be the PDF value at x=2"
   ]
  },
  {
   "cell_type": "markdown",
   "id": "c1ac04be",
   "metadata": {},
   "source": [
    "##### What are the properties of Binomial distribution? Give two examples of events where binomial distribution can be applied."
   ]
  },
  {
   "cell_type": "markdown",
   "id": "6c98240c",
   "metadata": {},
   "source": [
    "###### Properties of Binomial Distribution:\n",
    "\n",
    ">The experiment consists of a fixed number of trials, denoted by n.\n",
    "\n",
    ">Each trial has only two possible outcomes: success or failure.\n",
    "\n",
    ">The probability of success p is the same for each trial.\n",
    "\n",
    ">The trials are independent of each otherThe random variable X, which represents the number of successes, follows a binomial distribution with parameters n and p.\n",
    "\n",
    "###### Examples:\n",
    "\n",
    ">Tossing a coin 10 times and counting the number of heads (success = getting heads).\n",
    "\n",
    ">Checking 100 light bulbs from a batch to determine how many are defective (success = finding a defective bulb)."
   ]
  },
  {
   "cell_type": "markdown",
   "id": "dca74ed2",
   "metadata": {},
   "source": [
    "##### Generate a random sample of size 1000 from a binomial distribution with probability of success 0.4 and plot a histogram of the results using matplotlib."
   ]
  },
  {
   "cell_type": "code",
   "execution_count": 2,
   "id": "e323c0a1",
   "metadata": {},
   "outputs": [
    {
     "data": {
      "image/png": "[encoded data removed]",
      "text/plain": [
       "<Figure size 640x480 with 1 Axes>"
      ]
     },
     "metadata": {},
     "output_type": "display_data"
    }
   ],
   "source": [
    "import numpy as np\n",
    "import matplotlib.pyplot as plt\n",
    "\n",
    "# Generate a random sample from a binomial distribution\n",
    "n = 10  # Number of trials\n",
    "p = 0.4  # Probability of success\n",
    "sample = np.random.binomial(n, p, 1000)\n",
    "\n",
    "# Plot a histogram of the results\n",
    "plt.hist(sample, bins=range(n+2), edgecolor='black', alpha=0.7)\n",
    "plt.title('Histogram of Binomial Distribution (n=10, p=0.4)')\n",
    "plt.xlabel('Number of Successes')\n",
    "plt.ylabel('Frequency')\n",
    "plt.show()\n"
   ]
  },
  {
   "cell_type": "markdown",
   "id": "9fa19ccf",
   "metadata": {},
   "source": [
    "#####  a Python function to calculate the cumulative distribution function of a Poisson distribution with a given mean at a given point."
   ]
  },
  {
   "cell_type": "code",
   "execution_count": 3,
   "id": "96594030",
   "metadata": {},
   "outputs": [
    {
     "name": "stdout",
     "output_type": "stream",
     "text": [
      "0.8152632445237721\n"
     ]
    }
   ],
   "source": [
    "import math\n",
    "\n",
    "def poisson_cdf(x, mean):\n",
    "    # Calculate the cumulative distribution function of the Poisson distribution\n",
    "    cdf_value = sum((mean ** k) * math.exp(-mean) / math.factorial(k) for k in range(0, x+1))\n",
    "    return cdf_value\n",
    "\n",
    "# Example usage:\n",
    "mean = 3\n",
    "x_value = 4\n",
    "print(poisson_cdf(x_value, mean))  # Output will be the CDF value at x=4"
   ]
  },
  {
   "cell_type": "markdown",
   "id": "9347dff8",
   "metadata": {},
   "source": [
    "##### How is the Binomial distribution different from the Poisson distribution"
   ]
  },
  {
   "cell_type": "markdown",
   "id": "4ffe34b9",
   "metadata": {},
   "source": [
    "###### Key Differences:\n",
    "\n",
    ">Nature of the Random Variable:\n",
    "\n",
    ">Binomial: Models the number of successes in a fixed number of independent trials, where each trial has the same probability of success.\n",
    "\n",
    ">Poisson: Models the number of events occurring in a fixed interval of time or space, where events occur independently and the average rate is known.\n",
    "\n",
    ">Parameters:\n",
    "\n",
    ">Binomial: Defined by \n",
    "n (number of trials) and \n",
    "p (probability of success).\n",
    "\n",
    ">Poisson: Defined by \n",
    "λ (mean number of events in a given interval).\n",
    "Limiting Case: A Poisson distribution can be seen as a limiting case of a binomial distribution when the number of trials \n",
    "n is large and the probability of success \n",
    "p is small.\n",
    "\n",
    ">Limiting Case: A Poisson distribution can be seen as a limiting case of a binomial distribution when the number of trials \n",
    "n is large and the probability of success \n",
    "p is small."
   ]
  },
  {
   "cell_type": "markdown",
   "id": "4f35dcad",
   "metadata": {},
   "source": [
    "##### Generate a random sample of size 1000 from a Poisson distribution with mean 5 and calculate the sample mean and variance"
   ]
  },
  {
   "cell_type": "code",
   "execution_count": 4,
   "id": "2591ed36",
   "metadata": {},
   "outputs": [
    {
     "name": "stdout",
     "output_type": "stream",
     "text": [
      "Sample Mean: 5.004\n",
      "Sample Variance: 5.1859839999999995\n"
     ]
    }
   ],
   "source": [
    "import numpy as np\n",
    "\n",
    "# Generate a random sample from a Poisson distribution\n",
    "mean = 5\n",
    "sample = np.random.poisson(mean, 1000)\n",
    "\n",
    "# Calculate the sample mean and variance\n",
    "sample_mean = np.mean(sample)\n",
    "sample_variance = np.var(sample)\n",
    "\n",
    "print(f\"Sample Mean: {sample_mean}\")\n",
    "print(f\"Sample Variance: {sample_variance}\")"
   ]
  },
  {
   "cell_type": "markdown",
   "id": "1db7a72f",
   "metadata": {},
   "source": [
    "##### How are the mean and variance related in Binomial distribution and Poisson distribution"
   ]
  },
  {
   "cell_type": "markdown",
   "id": "4f36c244",
   "metadata": {},
   "source": [
    "###### Binomial Distribution:\n",
    "    \n",
    ">Mean \n",
    "μ=n⋅p\n",
    "\n",
    ">Variance \n",
    "𝜎\n",
    " =n⋅p⋅(1−p)\n",
    " \n",
    "###### Poisson Distribution:\n",
    "\n",
    ">Mean \n",
    "μ=λ\n",
    "\n",
    ">Variance \n",
    "σ \n",
    "2\n",
    " =λ"
   ]
  },
  {
   "cell_type": "markdown",
   "id": "66d64479",
   "metadata": {},
   "source": [
    "##### In a normal distribution, with respect to the mean position, where does the least frequent data appear?"
   ]
  },
  {
   "cell_type": "markdown",
   "id": "462964b9",
   "metadata": {},
   "source": [
    ">In a normal distribution, the least frequent data appears in the tails, which are the regions farthest from the mean. As you move further from the mean (in either direction), the probability density decreases rapidly. The values farthest from the mean (in both the positive and negative directions) are the least likely to occur."
   ]
  }
 ],
 "metadata": {
  "kernelspec": {
   "display_name": "Python 3 (ipykernel)",
   "language": "python",
   "name": "python3"
  },
  "language_info": {
   "codemirror_mode": {
    "name": "ipython",
    "version": 3
   },
   "file_extension": ".py",
   "mimetype": "text/x-python",
   "name": "python",
   "nbconvert_exporter": "python",
   "pygments_lexer": "ipython3",
   "version": "3.10.9"
  }
 },
 "nbformat": 4,
 "nbformat_minor": 5
}
