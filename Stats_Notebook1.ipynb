{
 "cells": [
  {
   "cell_type": "markdown",
   "id": "c96ea9a5",
   "metadata": {},
   "source": [
    "##### What is Statistics?"
   ]
  },
  {
   "cell_type": "markdown",
   "id": "50f268cf",
   "metadata": {},
   "source": [
    "> Statistics is the science of collecting, organizing, analyzing, interpreting, and presenting data. It is used to draw conclusions and make informed decisions based on data."
   ]
  },
  {
   "cell_type": "markdown",
   "id": "6d169fc9",
   "metadata": {},
   "source": [
    "##### Define the different types of statistics and give an example of when each type might be used."
   ]
  },
  {
   "cell_type": "markdown",
   "id": "8020d97e",
   "metadata": {},
   "source": [
    ">Descriptive Statistics: Summarizes or describes the main features of a dataset. Examples include calculating the mean, median, or mode of a dataset.\n",
    "\n",
    ">Example: A company wants to understand the average sales per month.\n",
    "\n",
    ">Inferential Statistics: Uses a sample of data to make inferences or predictions about a population. It often involves hypothesis testing or confidence intervals.\n",
    "\n",
    ">Example: A researcher uses a sample of 1000 patients to estimate the average blood pressure of all patients in a hospital."
   ]
  },
  {
   "cell_type": "markdown",
   "id": "372d7cb3",
   "metadata": {},
   "source": [
    "##### What are the different types of data and how do they differ from each other? Provide an example of each type of data."
   ]
  },
  {
   "cell_type": "markdown",
   "id": "46d7c951",
   "metadata": {},
   "source": [
    ">Quantitative Data (Numerical): Data that represents measurable quantities.\n",
    "\n",
    ">Example: Height of students, income levels.\n",
    "\n",
    ">Qualitative Data (Categorical): Data that represents categories or groups.\n",
    "\n",
    ">Example: Gender, types of fruits."
   ]
  },
  {
   "cell_type": "markdown",
   "id": "1b94f9b5",
   "metadata": {},
   "source": [
    "##### Categorize the following datasets with respect to quantitative and qualitative data types:"
   ]
  },
  {
   "cell_type": "markdown",
   "id": "71e014c6",
   "metadata": {},
   "source": [
    "> (i) Grading in exam: A+, A, B+, B, C+, C, D, E - Qualitative (Ordinal)\n",
    "\n",
    ">(ii) Colour of mangoes: yellow, green, orange, red - Qualitative (Nominal)\n",
    "\n",
    ">(iii) Height data of a class: [178.9, 179, 179.5, 176, 177.2, 178.3, 175.8,...] - Quantitative (Continuous)\n",
    "\n",
    ">(iv) Number of mangoes exported by a farm: [500, 600, 478, 672, ...] - Quantitative (Discrete)"
   ]
  },
  {
   "cell_type": "markdown",
   "id": "ea552d42",
   "metadata": {},
   "source": [
    "#####  Explain the concept of levels of measurement and give an example of a variable for each level."
   ]
  },
  {
   "cell_type": "markdown",
   "id": "c9b0818b",
   "metadata": {},
   "source": [
    ">Nominal: Categorical data without a specific order.\n",
    "\n",
    ">Example: Colors of cars (red, blue, black).\n",
    "\n",
    ">Ordinal: Categorical data with a defined order but no fixed intervals.\n",
    "\n",
    ">Example: Customer satisfaction levels (Satisfied, Neutral, Unsatisfied).\n",
    "\n",
    ">Interval: Numerical data with meaningful intervals but no true zero.\n",
    "\n",
    ">Example: Temperature in Celsius.\n",
    "\n",
    ">Ratio: Numerical data with both meaningful intervals and a true zero.\n",
    "\n",
    ">Example: Weight of objects in kilograms."
   ]
  },
  {
   "cell_type": "markdown",
   "id": "d11da323",
   "metadata": {},
   "source": [
    "#####  Why is it important to understand the level of measurement when analyzing data? Provide an example to illustrate your answer."
   ]
  },
  {
   "cell_type": "markdown",
   "id": "ce374d99",
   "metadata": {},
   "source": [
    ">Understanding the level of measurement helps in choosing the right statistical methods. For example, calculating the mean makes sense for interval and ratio data (e.g., temperature, weight), but not for nominal data (e.g., car brands), where you might instead calculate frequencies or modes."
   ]
  },
  {
   "cell_type": "markdown",
   "id": "2887ed48",
   "metadata": {},
   "source": [
    "#####  How nominal data type is different from ordinal data type?"
   ]
  },
  {
   "cell_type": "markdown",
   "id": "247dce27",
   "metadata": {},
   "source": [
    ">Nominal: Represents categories without a specific order (e.g., eye color: blue, brown, green).\n",
    "\n",
    ">Ordinal: Represents categories that have a meaningful order or ranking (e.g., education levels: high school, bachelor's, master's)."
   ]
  },
  {
   "cell_type": "markdown",
   "id": "30522ac0",
   "metadata": {},
   "source": [
    "##### Which type of plot can be used to display data in terms of range?"
   ]
  },
  {
   "cell_type": "markdown",
   "id": "5baac0b2",
   "metadata": {},
   "source": [
    ">A box plot (box-and-whisker plot) is commonly used to display the range, including the minimum, maximum, median, and quartiles of a dataset."
   ]
  },
  {
   "cell_type": "code",
   "execution_count": 1,
   "id": "15733d22",
   "metadata": {},
   "outputs": [
    {
     "data": {
      "image/png": "[encoded data removed]",
      "text/plain": [
       "<Figure size 800x600 with 1 Axes>"
      ]
     },
     "metadata": {},
     "output_type": "display_data"
    }
   ],
   "source": [
    "import matplotlib.pyplot as plt\n",
    "import seaborn as sns\n",
    "import numpy as np\n",
    "\n",
    "data = np.random.normal(loc=100, scale=15, size=200)  # Random data (mean=100, std=15)\n",
    "\n",
    "plt.figure(figsize=(8, 6))\n",
    "sns.boxplot(data=data)\n",
    "\n",
    "\n",
    "plt.title('Box Plot Example', fontsize=16)\n",
    "plt.xlabel('Dataset', fontsize=12)\n",
    "\n",
    "plt.show()"
   ]
  },
  {
   "cell_type": "markdown",
   "id": "ef8a9bbf",
   "metadata": {},
   "source": [
    "##### Describe the difference between descriptive and inferential statistics. Give an example of each type of statistics and explain how they are used."
   ]
  },
  {
   "cell_type": "markdown",
   "id": "c71ea453",
   "metadata": {},
   "source": [
    ">Descriptive Statistics: Summarizes data from a sample.\n",
    "\n",
    ">Example: Calculating the average score of students in a class to understand class performance.\n",
    "\n",
    ">Inferential Statistics: Makes predictions or inferences about a population based on a sample.\n",
    "\n",
    ">Example: Using a sample of voters to predict the outcome of an election for the entire country."
   ]
  },
  {
   "cell_type": "markdown",
   "id": "a7ffddf0",
   "metadata": {},
   "source": [
    "##### What are some common measures of central tendency and variability used in statistics? Explain how each measure can be used to describe a dataset."
   ]
  },
  {
   "cell_type": "markdown",
   "id": "ea230a9b",
   "metadata": {},
   "source": [
    "###### Measures of Central Tendency:\n",
    "\n",
    ">Mean: The average value of the dataset.\n",
    "\n",
    ">Median: The middle value when the data is sorted.\n",
    "\n",
    ">Mode: The most frequent value in the dataset.\n",
    "\n",
    "###### Measures of Variability:\n",
    "\n",
    ">Range: The difference between the maximum and minimum values.\n",
    "\n",
    ">Variance: The average of the squared differences from the mean.\n",
    "\n",
    ">Standard Deviation: The square root of the variance, showing how much data varies from the mean."
   ]
  }
 ],
 "metadata": {
  "kernelspec": {
   "display_name": "Python 3 (ipykernel)",
   "language": "python",
   "name": "python3"
  },
  "language_info": {
   "codemirror_mode": {
    "name": "ipython",
    "version": 3
   },
   "file_extension": ".py",
   "mimetype": "text/x-python",
   "name": "python",
   "nbconvert_exporter": "python",
   "pygments_lexer": "ipython3",
   "version": "3.10.9"
  }
 },
 "nbformat": 4,
 "nbformat_minor": 5
}
