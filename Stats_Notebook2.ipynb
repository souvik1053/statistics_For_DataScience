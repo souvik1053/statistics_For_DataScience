{
 "cells": [
  {
   "cell_type": "markdown",
   "id": "b4c594a6",
   "metadata": {},
   "source": [
    "#####  What are the three measures of central tendency"
   ]
  },
  {
   "cell_type": "markdown",
   "id": "2fc37263",
   "metadata": {},
   "source": [
    "###### The three measures of central tendency are:\n",
    "\n",
    ">Mean: The arithmetic average of a set of values.\n",
    "\n",
    ">Median: The middle value when the data is ordered.\n",
    "\n",
    ">Mode: The most frequently occurring value in a dataset."
   ]
  },
  {
   "cell_type": "markdown",
   "id": "e82172ec",
   "metadata": {},
   "source": [
    "##### What is the difference between the mean, median, and mode? How are they used to measure the central tendency of a dataset?"
   ]
  },
  {
   "cell_type": "markdown",
   "id": "75aaee7e",
   "metadata": {},
   "source": [
    ">Mean is calculated by summing all the values and dividing by the number of values. It is sensitive to outliers.\n",
    "\n",
    ">Median is the middle value and is less affected by outliers, making it a better measure for skewed distributions.\n",
    "\n",
    ">Mode identifies the most frequent value, useful for categorical data or distributions with repeated values."
   ]
  },
  {
   "cell_type": "markdown",
   "id": "59466738",
   "metadata": {},
   "source": [
    " ##### Measure the three measures of central tendency for the given height data: Heights=[178,177,176,177,178.2,178,175,179,180,175,178.9,176.2,177,172.5,178,176.5]   Find the standard deviation for the given data:"
   ]
  },
  {
   "cell_type": "code",
   "execution_count": 6,
   "id": "0a28b30c",
   "metadata": {},
   "outputs": [
    {
     "name": "stdout",
     "output_type": "stream",
     "text": [
      "Mean: 177.02\n",
      "Median: 177.00\n",
      "Mode: 177.00\n",
      "Standard Deviation: 1.85\n",
      "Variance: 3.41\n",
      "Range: 7.50\n",
      "Skewness: -0.71\n"
     ]
    },
    {
     "name": "stderr",
     "output_type": "stream",
     "text": [
      "C:\\Users\\STAR\\AppData\\Local\\Temp\\ipykernel_2292\\3325938130.py:9: FutureWarning: Unlike other reduction functions (e.g. `skew`, `kurtosis`), the default behavior of `mode` typically preserves the axis it acts along. In SciPy 1.11.0, this behavior will change: the default value of `keepdims` will become False, the `axis` over which the statistic is taken will be eliminated, and the value None will no longer be accepted. Set `keepdims` to True or False to avoid this warning.\n",
      "  mode = stats.mode(heights).mode[0]\n"
     ]
    }
   ],
   "source": [
    "import numpy as np\n",
    "import pandas as pd\n",
    "from scipy import stats\n",
    "\n",
    "heights = [178, 177, 176, 177, 178.2, 178, 175, 179, 180, 175, 178.9, 176.2, 177, 172.5, 178, 176.5]\n",
    "\n",
    "mean = np.mean(heights)\n",
    "median = np.median(heights)\n",
    "mode = stats.mode(heights).mode[0]\n",
    "std_dev = np.std(heights, ddof=1)\n",
    "variance = np.var(heights, ddof=1)\n",
    "skewness = stats.skew(heights)\n",
    "data_range = np.max(heights) - np.min(heights)\n",
    "\n",
    "print(f\"Mean: {mean:.2f}\")\n",
    "print(f\"Median: {median:.2f}\")\n",
    "print(f\"Mode: {mode:.2f}\")\n",
    "print(f\"Standard Deviation: {std_dev:.2f}\")\n",
    "print(f\"Variance: {variance:.2f}\")\n",
    "print(f\"Range: {data_range:.2f}\")\n",
    "print(f\"Skewness: {skewness:.2f}\")"
   ]
  },
  {
   "cell_type": "markdown",
   "id": "734eda4e",
   "metadata": {},
   "source": [
    "#####  How are measures of dispersion such as range, variance, and standard deviation used to describe the spread of a dataset? Provide an example."
   ]
  },
  {
   "cell_type": "markdown",
   "id": "f8d114e3",
   "metadata": {},
   "source": [
    ">Range: Difference between the maximum and minimum values, indicating the span of the data.\n",
    "    \n",
    ">Variance: Average of the squared differences from the mean, showing how much the values spread out.\n",
    "    \n",
    ">Standard Deviation: The square root of the variance, giving a sense of average distance from the mean.\n",
    "    \n",
    ">Example: For the dataset [1, 2, 3, 4, 5]:\n",
    "\n",
    ">Range = 5 - 1 = 4\n",
    "\n",
    ">Variance = 2\n",
    "\n",
    ">Standard Deviation ≈1.41"
   ]
  },
  {
   "cell_type": "markdown",
   "id": "409b82cc",
   "metadata": {},
   "source": [
    "##### What is a Venn diagram?"
   ]
  },
  {
   "cell_type": "markdown",
   "id": "28fe9742",
   "metadata": {},
   "source": [
    ">A Venn diagram is a visual representation of sets, using overlapping circles to show relationships between different groups, including common elements and differences."
   ]
  },
  {
   "cell_type": "markdown",
   "id": "e5a1f25a",
   "metadata": {},
   "source": [
    "##### For the two given sets A = (2,3,4,5,6,7) & B = (0,2,6,8,10). Find:\n",
    "(i) A B\n",
    "(ii) A ⋃ B"
   ]
  },
  {
   "cell_type": "code",
   "execution_count": 4,
   "id": "436d2001",
   "metadata": {},
   "outputs": [
    {
     "name": "stdout",
     "output_type": "stream",
     "text": [
      "Intersection (A ∩ B): {2, 6}\n",
      "Union (A ∪ B): {0, 2, 3, 4, 5, 6, 7, 8, 10}\n"
     ]
    }
   ],
   "source": [
    "A = {2, 3, 4, 5, 6, 7}\n",
    "B = {0, 2, 6, 8, 10}\n",
    "\n",
    "intersection = A.intersection(B)\n",
    "union = A.union(B)\n",
    "\n",
    "print(f\"Intersection (A ∩ B): {intersection}\")\n",
    "print(f\"Union (A ∪ B): {union}\")"
   ]
  },
  {
   "cell_type": "markdown",
   "id": "a366d983",
   "metadata": {},
   "source": [
    "##### What do you understand about skewness in data"
   ]
  },
  {
   "cell_type": "markdown",
   "id": "798991d5",
   "metadata": {},
   "source": [
    ">In a right-skewed distribution, the mean is greater than the median. Therefore, the median will be to the left of the mean."
   ]
  },
  {
   "cell_type": "markdown",
   "id": "b2a71b4f",
   "metadata": {},
   "source": [
    "##### If a data is right skewed then what will be the position of the median with respect to the mean"
   ]
  },
  {
   "cell_type": "markdown",
   "id": "d4044155",
   "metadata": {},
   "source": [
    ">In a right-skewed distribution, the mean is greater than the median. Therefore, the median will be to the left of the mean."
   ]
  },
  {
   "cell_type": "markdown",
   "id": "9f9dfef1",
   "metadata": {},
   "source": [
    "##### Explain the difference between covariance and correlation. How are these measures used in statistical analysis?"
   ]
  },
  {
   "cell_type": "markdown",
   "id": "3f637102",
   "metadata": {},
   "source": [
    ">Covariance measures the degree to which two variables change together, but its value is not standardized, making interpretation difficult.\n",
    "\n",
    ">Correlation standardizes the covariance, providing a dimensionless measure (between -1 and 1) that indicates the strength and direction of a linear relationship between two variables."
   ]
  },
  {
   "cell_type": "code",
   "execution_count": 7,
   "id": "efb5f4c7",
   "metadata": {},
   "outputs": [
    {
     "name": "stdout",
     "output_type": "stream",
     "text": [
      "Covariance between data_x and data_y: 5.50\n",
      "Correlation between data_x and data_y: 0.97\n"
     ]
    }
   ],
   "source": [
    "data_x = [1, 2, 3, 4, 5]\n",
    "data_y = [2, 3, 5, 7, 11]\n",
    "covariance = np.cov(data_x, data_y)[0][1]\n",
    "correlation = np.corrcoef(data_x, data_y)[0][1]\n",
    "\n",
    "print(f\"Covariance between data_x and data_y: {covariance:.2f}\")\n",
    "print(f\"Correlation between data_x and data_y: {correlation:.2f}\")"
   ]
  },
  {
   "cell_type": "markdown",
   "id": "1c46b195",
   "metadata": {},
   "source": [
    "##### What is the formula for calculating the sample mean? Provide an example calculation for a dataset."
   ]
  },
  {
   "cell_type": "code",
   "execution_count": 8,
   "id": "b9f22c67",
   "metadata": {},
   "outputs": [
    {
     "name": "stdout",
     "output_type": "stream",
     "text": [
      "Sample Mean: 5.50\n"
     ]
    }
   ],
   "source": [
    "sample_data = [4, 5, 6, 7]\n",
    "sample_mean = np.mean(sample_data)\n",
    "print(f\"Sample Mean: {sample_mean:.2f}\")"
   ]
  },
  {
   "cell_type": "markdown",
   "id": "51cc7d0c",
   "metadata": {},
   "source": [
    "##### For a normal distribution data what is the relationship between its measure of central tendency"
   ]
  },
  {
   "cell_type": "markdown",
   "id": "85b87fae",
   "metadata": {},
   "source": [
    ">In a normal distribution, the mean, median, and mode are all equal and located at the center of the distribution."
   ]
  },
  {
   "cell_type": "markdown",
   "id": "8b2665c0",
   "metadata": {},
   "source": [
    "##### How is covariance different from correlation"
   ]
  },
  {
   "cell_type": "markdown",
   "id": "2a5422d2",
   "metadata": {},
   "source": [
    "> Covariance indicates the direction of the relationship between two variables, while correlation also indicates the strength of that relationship. Correlation is a standardized measure, making it easier to interpret compared to covariance."
   ]
  },
  {
   "cell_type": "markdown",
   "id": "be354ebf",
   "metadata": {},
   "source": [
    "#####  How do outliers affect measures of central tendency and dispersion Provide an example"
   ]
  },
  {
   "cell_type": "markdown",
   "id": "76a27477",
   "metadata": {},
   "source": [
    ">Outliers can significantly skew the mean and inflate the standard deviation. For example, in the dataset [2, 3, 4, 5, 100]:\n",
    "\n",
    ">Mean =  22.8\n",
    "\n",
    ">22.8, which is affected by the outlier (100).\n",
    "\n",
    ">Median =  4\n",
    "\n",
    ">4, which remains unaffected by the outlier."
   ]
  }
 ],
 "metadata": {
  "kernelspec": {
   "display_name": "Python 3 (ipykernel)",
   "language": "python",
   "name": "python3"
  },
  "language_info": {
   "codemirror_mode": {
    "name": "ipython",
    "version": 3
   },
   "file_extension": ".py",
   "mimetype": "text/x-python",
   "name": "python",
   "nbconvert_exporter": "python",
   "pygments_lexer": "ipython3",
   "version": "3.10.9"
  }
 },
 "nbformat": 4,
 "nbformat_minor": 5
}
