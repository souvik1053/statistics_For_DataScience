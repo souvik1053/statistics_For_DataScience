{
 "cells": [
  {
   "cell_type": "markdown",
   "id": "192ec755",
   "metadata": {},
   "source": [
    "##### What are the Probability Mass Function (PMF) and Probability Density Function (PDF)"
   ]
  },
  {
   "cell_type": "markdown",
   "id": "f45f77f5",
   "metadata": {},
   "source": [
    ">PMF: It applies to discrete random variables and gives the probability that a variable takes on a specific value.\n",
    "\n",
    ">Example: If you flip a coin, the PMF gives you the probability of getting heads or tails (both 0.5).\n",
    "\n",
    ">PDF: It applies to continuous random variables and gives the relative likelihood of a variable taking on a value. The area under the curve between two points represents the probability of the variable falling in that range.\n",
    "\n",
    ">Example: The height of people is continuous, so PDF gives the likelihood of someone being a certain height."
   ]
  },
  {
   "cell_type": "markdown",
   "id": "606219c7",
   "metadata": {},
   "source": [
    "##### What is Cumulative Density Function (CDF)? Explain with an example. Why is CDF used?"
   ]
  },
  {
   "cell_type": "markdown",
   "id": "8c783231",
   "metadata": {},
   "source": [
    ">CDF: The CDF gives the probability that a random variable takes a value less than or equal to a certain number. It accumulates probabilities up to that point.\n",
    "\n",
    ">Example: For a test score distribution, the CDF at 70 tells us the probability of scoring 70 or less.\n",
    "\n",
    ">Why use CDF: It helps in finding the probability of a variable falling below a certain value, and is useful for comparisons and percentiles."
   ]
  },
  {
   "cell_type": "markdown",
   "id": "377077c4",
   "metadata": {},
   "source": [
    "##### What are some examples of situations where the normal distribution might be used as a model? Explain how the parameters of the normal distribution relate to the shape of the distribution."
   ]
  },
  {
   "cell_type": "markdown",
   "id": "71777b5d",
   "metadata": {},
   "source": [
    ">Examples: Heights of people, test scores, measurement errors, and IQ scores often follow a normal distribution.\n",
    "\n",
    "###### Parameters:\n",
    "\n",
    ">Mean (\n",
    "μ) defines the center of the distribution.\n",
    "\n",
    ">Standard Deviation (\n",
    "σ) determines the spread. A small \n",
    "σ makes the curve narrower, while a large \n",
    "σ makes it wider."
   ]
  },
  {
   "cell_type": "markdown",
   "id": "dcc913e8",
   "metadata": {},
   "source": [
    "##### Explain the importance of Normal Distribution. Give a few real-life examples of Normal Distribution."
   ]
  },
  {
   "cell_type": "markdown",
   "id": "ea5467df",
   "metadata": {},
   "source": [
    ">Importance: The normal distribution is common in nature and used in statistics because many variables are normally distributed. It's also important for statistical inference (e.g., z-tests and t-tests).\n",
    "\n",
    ">Examples:\n",
    "\n",
    ">Heights and weights of people,\n",
    "Scores on standardized tests like SAT or IQ tests,\n",
    "Measurement errors in experiments."
   ]
  },
  {
   "cell_type": "markdown",
   "id": "3cdd6319",
   "metadata": {},
   "source": [
    "#####  What is Bernoulli Distribution? Give an Example. What is the difference between Bernoulli Distribution and Binomial Distribution"
   ]
  },
  {
   "cell_type": "markdown",
   "id": "154b9dbb",
   "metadata": {},
   "source": [
    ">Bernoulli Distribution: It models a random experiment with two outcomes: success (1) or failure (0), with a single trial.\n",
    "\n",
    ">Example: Tossing a coin once (Success = heads, Failure = tails).\n",
    "\n",
    "###### Difference:\n",
    "\n",
    ">Bernoulli: A single trial (1 toss).\n",
    "\n",
    ">Binomial: Multiple independent Bernoulli trials (e.g., tossing a coin 10 times)."
   ]
  },
  {
   "cell_type": "markdown",
   "id": "a87725cd",
   "metadata": {},
   "source": [
    "##### Consider a dataset with a mean of 50 and a standard deviation of 10. What is the probability that a randomly selected observation will be greater than 60?"
   ]
  },
  {
   "cell_type": "code",
   "execution_count": 1,
   "id": "4581df20",
   "metadata": {},
   "outputs": [
    {
     "name": "stdout",
     "output_type": "stream",
     "text": [
      "Probability that a value is greater than 60: 0.1587\n"
     ]
    }
   ],
   "source": [
    "import scipy.stats as stats\n",
    "\n",
    "# Given values\n",
    "mean = 50\n",
    "std_dev = 10\n",
    "x = 60\n",
    "\n",
    "# Calculate the z-score\n",
    "z = (x - mean) / std_dev\n",
    "\n",
    "# Calculate the cumulative probability up to 60\n",
    "cdf_value = stats.norm.cdf(z)\n",
    "\n",
    "# Probability that the observation is greater than 60\n",
    "probability = 1 - cdf_value\n",
    "\n",
    "print(f\"Probability that a value is greater than 60: {probability:.4f}\")"
   ]
  },
  {
   "cell_type": "markdown",
   "id": "8da9d278",
   "metadata": {},
   "source": [
    "#####  Uniform Distribution with an example"
   ]
  },
  {
   "cell_type": "markdown",
   "id": "7bfda432",
   "metadata": {},
   "source": [
    ">In a uniform distribution, all outcomes are equally likely. For example, if you roll a fair six-sided die, each number (1 to 6) has an equal probability of 1/6."
   ]
  },
  {
   "cell_type": "markdown",
   "id": "ccf2cf17",
   "metadata": {},
   "source": [
    "#####  What is the z-score? Importance of the z-score."
   ]
  },
  {
   "cell_type": "markdown",
   "id": "d050bad4",
   "metadata": {},
   "source": [
    ">The z-score tells us how many standard deviations a data point is from the mean. It is important because it helps compare values from different distributions and identify outliers."
   ]
  },
  {
   "cell_type": "markdown",
   "id": "71751d22",
   "metadata": {},
   "source": [
    "##### What is the Central Limit Theorem (CLT)"
   ]
  },
  {
   "cell_type": "markdown",
   "id": "78370c79",
   "metadata": {},
   "source": [
    ">The Central Limit Theorem states that when you take the mean of a large number of samples from any distribution, the distribution of the sample means will approach a normal distribution, regardless of the original distribution.\n",
    "\n",
    ">Significance: It allows us to make inferences about a population using sample data, even if the population isn't normally distributed."
   ]
  },
  {
   "cell_type": "markdown",
   "id": "99b40993",
   "metadata": {},
   "source": [
    "##### Assumptions of the Central Limit Theorem:"
   ]
  },
  {
   "cell_type": "markdown",
   "id": "0ddb7a9d",
   "metadata": {},
   "source": [
    ">The sample size should be large (usually \n",
    "n≥30).\n",
    "\n",
    ">The samples must be independent.\n",
    "\n",
    ">Random sampling or randomization is needed."
   ]
  }
 ],
 "metadata": {
  "kernelspec": {
   "display_name": "Python 3 (ipykernel)",
   "language": "python",
   "name": "python3"
  },
  "language_info": {
   "codemirror_mode": {
    "name": "ipython",
    "version": 3
   },
   "file_extension": ".py",
   "mimetype": "text/x-python",
   "name": "python",
   "nbconvert_exporter": "python",
   "pygments_lexer": "ipython3",
   "version": "3.10.9"
  }
 },
 "nbformat": 4,
 "nbformat_minor": 5
}
